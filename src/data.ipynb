{
 "cells": [
  {
   "cell_type": "code",
   "execution_count": null,
   "metadata": {},
   "outputs": [],
   "source": [
    "import pandas as pd\n",
    "\n",
    "train_test_split = 0.7\n",
    "source_data = pd.read_csv(\"../data/source_data.txt\",\n",
    "                            usecols=range(15), sep=\" \",\n",
    "                            header=None)\n",
    "source_data"
   ]
  },
  {
   "cell_type": "code",
   "execution_count": null,
   "metadata": {},
   "outputs": [],
   "source": [
    "train_data = source_data.iloc[:int(len(source_data) * train_test_split)]\n",
    "train_data"
   ]
  },
  {
   "cell_type": "code",
   "execution_count": null,
   "metadata": {},
   "outputs": [],
   "source": [
    "train_data = train_data.iloc[:, 2:].values\n",
    "train_data"
   ]
  },
  {
   "cell_type": "code",
   "execution_count": null,
   "metadata": {},
   "outputs": [],
   "source": [
    "train_x_data, train_y_data = [], []\n",
    "windows_size = 3\n",
    "for i in range(len(train_data) - windows_size - 1):\n",
    "    sub_data = train_data[i:(i+windows_size+1), :]\n",
    "    # print(sub_data)\n",
    "    train_x_data.append(sub_data[1:])\n",
    "    train_y_data.append(sub_data[0])\n",
    "print(train_x_data[0])\n",
    "print(train_y_data[0])"
   ]
  },
  {
   "cell_type": "code",
   "execution_count": null,
   "metadata": {},
   "outputs": [],
   "source": [
    "import numpy as np\n",
    "np.array(train_x_data)[:, :, :6]"
   ]
  }
 ],
 "metadata": {
  "kernelspec": {
   "display_name": ".venv",
   "language": "python",
   "name": "python3"
  },
  "language_info": {
   "codemirror_mode": {
    "name": "ipython",
    "version": 3
   },
   "file_extension": ".py",
   "mimetype": "text/x-python",
   "name": "python",
   "nbconvert_exporter": "python",
   "pygments_lexer": "ipython3",
   "version": "3.11.5"
  },
  "orig_nbformat": 4
 },
 "nbformat": 4,
 "nbformat_minor": 2
}
